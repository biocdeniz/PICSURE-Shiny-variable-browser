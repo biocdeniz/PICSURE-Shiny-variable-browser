{
 "cells": [
  {
   "cell_type": "code",
   "execution_count": null,
   "metadata": {},
   "outputs": [],
   "source": [
    "# Install/load packages\n",
    "\n",
    "paket <- function(pak){\n",
    "  not_installed <- pak[!(pak %in% rownames(installed.packages()))]\n",
    "  if (length(not_installed))\n",
    "    install.packages(not_installed, dependencies = TRUE,repos='http://cran.us.r-project.org')\n",
    "  sapply(pak, library, character.only = TRUE)\n",
    "}\n",
    "\n",
    "install = c(\"shiny\", \"shinydashboard\", \"shinyWidgets\", \"esquisse\", \"dplyr\", \"DT\", \"stringr\", \"tidyr\")\n",
    "paket(install)"
   ]
  },
  {
   "cell_type": "markdown",
   "metadata": {},
   "source": [
    "# Installing PICSURE"
   ]
  },
  {
   "cell_type": "code",
   "execution_count": null,
   "metadata": {},
   "outputs": [],
   "source": [
    "source(\"requirements.R\")"
   ]
  },
  {
   "cell_type": "code",
   "execution_count": null,
   "metadata": {},
   "outputs": [],
   "source": [
    "devtools::install_github(\"hms-dbmi/pic-sure-r-client\", force = T, upgrade = \"always\")\n",
    "devtools::install_github(\"hms-dbmi/pic-sure-r-adapter-hpds\", force = T, upgrade = \"always\")"
   ]
  },
  {
   "cell_type": "markdown",
   "metadata": {},
   "source": [
    "## PYTHON CODE TO RUN"
   ]
  },
  {
   "cell_type": "code",
   "execution_count": null,
   "metadata": {},
   "outputs": [],
   "source": [
    "import sys\n",
    "!{sys.executable} -m pip install -r requirements.txt"
   ]
  },
  {
   "cell_type": "code",
   "execution_count": null,
   "metadata": {},
   "outputs": [],
   "source": [
    "!{sys.executable} -m pip install --upgrade --force-reinstall git+https://github.com/hms-dbmi/pic-sure-python-adapter-hpds.git\n",
    "!{sys.executable} -m pip install --upgrade --force-reinstall git+https://github.com/hms-dbmi/pic-sure-python-client.git"
   ]
  },
  {
   "cell_type": "code",
   "execution_count": null,
   "metadata": {},
   "outputs": [],
   "source": [
    "PICSURE_network_URL = \"https://picsure.biodatacatalyst.nhlbi.nih.gov/picsure\"\n",
    "resource_id = \"02e23f52-f354-4e8b-992c-d37c8b9ba140\"\n",
    "token_file = \"token.txt\"\n",
    "\n",
    "with open(token_file, \"r\") as f:\n",
    "    my_token = f.read()"
   ]
  },
  {
   "cell_type": "code",
   "execution_count": null,
   "metadata": {},
   "outputs": [],
   "source": [
    "from python_lib.wrappers import get_whole_dic\n",
    "whole_data = get_whole_dic()"
   ]
  },
  {
   "cell_type": "markdown",
   "metadata": {},
   "source": [
    "# END OF PYTHON CODE TO RUN"
   ]
  },
  {
   "cell_type": "markdown",
   "metadata": {},
   "source": [
    "# Loading data"
   ]
  },
  {
   "cell_type": "code",
   "execution_count": null,
   "metadata": {},
   "outputs": [],
   "source": [
    "source(\"R_lib/wrappers.R\")"
   ]
  },
  {
   "cell_type": "raw",
   "metadata": {},
   "source": [
    "library(tictoc)\n",
    "tic(\"time to get whole R dic:\")\n",
    "whole_data <- get_whole_dic()\n",
    "toc()"
   ]
  },
  {
   "cell_type": "raw",
   "metadata": {},
   "source": [
    "resource <- get_HPDS_connection()\n",
    "plain_variablesDict <- hpds::find.in.dictionary(resource, \"smok\") %>% hpds::extract.dataframe()\n",
    "whole_data = get_multiIndex_variablesDict(plain_variablesDict)\\\n",
    ".drop(\"categoryValues\", axis=1)"
   ]
  },
  {
   "cell_type": "code",
   "execution_count": null,
   "metadata": {},
   "outputs": [],
   "source": [
    "whole_data <- data.table::fread(file = \"multiIndex_variablesDict.csv\",\n",
    "                                sep=\",\",\n",
    "                                header = TRUE,\n",
    "                                drop = \"categoryValues\",\n",
    "                                na.strings = c(\"NA\", \"\")) "
   ]
  },
  {
   "cell_type": "markdown",
   "metadata": {},
   "source": [
    "# Data Management"
   ]
  },
  {
   "cell_type": "code",
   "execution_count": null,
   "metadata": {},
   "outputs": [],
   "source": [
    "whole_data = whole_data %>% select(\"simplified_name\", \"name\", everything())\n",
    "study_names <- whole_data$level_0 %>% unique()\n",
    "not_all_na <- function(x) {!all(is.na(x))}\n",
    "less_20_elem <- function(x) {length(unique(x)) < 20}\n",
    "whole_data[[\"names_wout_backslashes\"]] <- gsub(\"\\\\\", \" \", whole_data[[\"name\"]], fixed=TRUE)"
   ]
  },
  {
   "cell_type": "code",
   "execution_count": null,
   "metadata": {},
   "outputs": [],
   "source": [
    "## REFERENCES ##\n",
    "# https://rstudio.github.io/shinydashboard/structure.html\n",
    "# https://rstudio.github.io/shinydashboard/appearance.html\n",
    "\n",
    "\n",
    "app <- shinyApp(\n",
    "\n",
    " \n",
    "   {\n",
    "      #### UI HEADER ####\n",
    "      DBheader <- dashboardHeader(title=\"BDCatalyst Variable Browser\",\n",
    "                                  titleWidth = 350 )\n",
    "\n",
    "\n",
    "      DBsidebar <- dashboardSidebar(width = 350,\n",
    "                                    fluidRow(column(8,\n",
    "                                             searchInput(\n",
    "                                          inputId=\"variable_search_box\",\n",
    "                                          label = \"Search Variable Names\",\n",
    "                                          value = \"\",\n",
    "                                          placeholder = \"eg: Smoking\",\n",
    "                                          btnSearch = NULL,\n",
    "                                          btnReset = NULL,\n",
    "                                          resetValue = \"\",\n",
    "                                          width = NULL\n",
    "                                       )),column(4,\n",
    "                                    checkboxInput(\n",
    "                                          \"search_regex\", \"regex\", value = FALSE, width = NULL\n",
    "                                    ))),\n",
    "                                    filterDF_UI(\"filtering\")\n",
    "      )\n",
    "\n",
    "\n",
    "\n",
    "      #### UI BODY ####\n",
    "      DBbody <- dashboardBody(\n",
    "         fluidRow(\n",
    "            pickerInput(\n",
    "               inputId = \"subset\",\n",
    "               label = \"Select specific BDC Study:\",\n",
    "               choices = study_names,\n",
    "               selected = study_names,\n",
    "               multiple = T,\n",
    "               options = list('actions-box' = T),\n",
    "               inline = F,\n",
    "            )\n",
    "         ),\n",
    "         fluidRow(\n",
    "            column(width = 12,\n",
    "                   box(\n",
    "                      width = NULL,\n",
    "                      div(style = 'overflow-x: scroll',\n",
    "                          DT::dataTableOutput(outputId = \"table\")),\n",
    "                      progressBar(\n",
    "                         id = \"pbar\", value = 100,\n",
    "                         total = 100, display_pct = TRUE\n",
    "                      ),\n",
    "                      # tags$p(\"Code dplyr:\"),\n",
    "                      # verbatimTextOutput(outputId = \"code_dplyr\"),\n",
    "                      # tags$p(\"Expression:\"),\n",
    "                      # verbatimTextOutput(outputId = \"code\"),\n",
    "                      # tags$p(\"Filtered data:\"),\n",
    "                      # verbatimTextOutput(outputId = \"res_str\")\n",
    "                   )\n",
    "            )\n",
    "         )\n",
    "      )\n",
    "\n",
    "\n",
    "\n",
    "      #### GENERATING UI ####\n",
    "      ui <- dashboardPage(\n",
    "         skin=\"yellow\",\n",
    "         DBheader,\n",
    "         DBsidebar,\n",
    "         DBbody\n",
    "      )\n",
    "\n",
    "   },\n",
    "\n",
    "   server <- function(input, output, session) {\n",
    "\n",
    "      data <- reactive({\n",
    "         test = whole_data %>%\n",
    "            filter(level_0 %in% input$subset) %>%\n",
    "            select_if(not_all_na)\n",
    "         if ((input$variable_search_box != \"\") & isTRUE(input$search_regex)) {\n",
    "            filter(test, stringr::str_detect(test$names_wout_backslashes, input$variable_search_box))\n",
    "         } else if ((input$variable_search_box != \"\") & isFALSE(input$search_regex)) {\n",
    "            filter(test, stringr::str_detect(test$names_wout_backslashes, stringr::coll(input$variable_search_box, TRUE)))\n",
    "         } else {\n",
    "            test\n",
    "         }\n",
    "      })\n",
    "\n",
    "            res_filter <- callModule(\n",
    "               module = filterDF,\n",
    "               id = \"filtering\",\n",
    "               data_table = data,\n",
    "               data_name = reactive(\"Filtered Variable names\")\n",
    "            )\n",
    "\n",
    "            observeEvent(res_filter$data_filtered(), {\n",
    "               updateProgressBar(\n",
    "                  session = session, id = \"pbar\",\n",
    "                  value = nrow(res_filter$data_filtered()), total = nrow(data())\n",
    "               )\n",
    "            })\n",
    "\n",
    "            output$table <- DT::renderDT({\n",
    "               res_filter$data_filtered() %>%\n",
    "                  DT::datatable(.,\n",
    "                                caption = \"You can rearrange columns order by drag and drop\",\n",
    "                                escape = FALSE, filter = 'top', rownames = FALSE,\n",
    "                                extensions = list('ColReorder' = NULL, 'RowReorder' = NULL,\n",
    "                                                  'Buttons' = NULL),\n",
    "                                options = list(dom = 'BRrltpi',\n",
    "                                               lengthMenu = list(c(10, 50, 100, -1), c('10', '50', '100', 'All')),\n",
    "                                               pageLength = 50,\n",
    "                                               ColReorder = TRUE,\n",
    "                                               rowReorder = TRUE,\n",
    "                                               buttons = list(I('colvis'), list(\n",
    "                                                  extend = \"collection\",\n",
    "                                                  buttons = c('copy', 'csv', 'pdf'),\n",
    "                                                  text = \"Export\"\n",
    "                                               )),\n",
    "                                               columnDefs = list(list(visible=FALSE, targets = which(names(.) == \"names_wout_backslashes\") - 1)\n",
    "                                                                 )\n",
    "                                )\n",
    "                  ) %>% DT::formatStyle(\n",
    "                     c(\"simplified_name\", \"name\"),\n",
    "                     backgroundColor = 'lightgreen')\n",
    "\n",
    "            }, options = list(pageLength = 100))\n",
    "\n",
    "\n",
    "            output$code_dplyr <- renderPrint({\n",
    "               res_filter$code$dplyr\n",
    "            })\n",
    "            output$code <- renderPrint({\n",
    "               res_filter$code$expr\n",
    "            })\n",
    "\n",
    "            output$res_str <- renderPrint({\n",
    "               str(res_filter$data_filtered())\n",
    "            })\n",
    "\n",
    "   }\n",
    ")"
   ]
  },
  {
   "cell_type": "code",
   "execution_count": null,
   "metadata": {},
   "outputs": [],
   "source": [
    "browseURL(\"http://127.0.0.1:4868\")\n",
    "options(shiny.port = 4868)\n",
    "runApp(app, host = getOption(\"shiny.host\", \"127.0.0.1\"))"
   ]
  },
  {
   "cell_type": "code",
   "execution_count": null,
   "metadata": {},
   "outputs": [],
   "source": []
  }
 ],
 "metadata": {
  "kernelspec": {
   "display_name": "Python 3.6",
   "language": "python",
   "name": "dbmi_jupyterhub"
  },
  "language_info": {
   "codemirror_mode": {
    "name": "ipython",
    "version": 3
   },
   "file_extension": ".py",
   "mimetype": "text/x-python",
   "name": "python",
   "nbconvert_exporter": "python",
   "pygments_lexer": "ipython3",
   "version": "3.6.9"
  }
 },
 "nbformat": 4,
 "nbformat_minor": 4
}
